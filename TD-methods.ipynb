{
 "cells": [
  {
   "cell_type": "code",
   "execution_count": 45,
   "id": "cc706eb0",
   "metadata": {},
   "outputs": [],
   "source": [
    "import numpy as np\n",
    "import pygame\n",
    "import gym\n",
    "import matplotlib.pyplot as plt\n",
    "from IPython.display import clear_output"
   ]
  },
  {
   "cell_type": "markdown",
   "id": "a9e985f6",
   "metadata": {},
   "source": [
    "### SARSA"
   ]
  },
  {
   "cell_type": "code",
   "execution_count": 113,
   "id": "3592b600",
   "metadata": {},
   "outputs": [],
   "source": [
    "def SARSA(env, alpha=0.01, num_episodes=10000, eps=0.3, gamma=0.95, eps_decay=0.00005):\n",
    "    \n",
    "    '''\n",
    "    num_episodes - кол-во эпизодов для завершения\n",
    "    eps - значение параметра e-жадной стратегии\n",
    "    gamma - дисконтирующий множитель\n",
    "    eps_decay -коэффициент затухания eps\n",
    "    '''\n",
    "    \n",
    "    #Инициализация пространства действий и состояний\n",
    "    nA = env.action_space.n\n",
    "    nS = env.observation_space.n\n",
    "\n",
    "    # Q-матрица, содержащая значений Q-функции для каждой пары состояние-дейсвтие (nS*nA) и списки информации о результатах игры\n",
    "    Q = np.zeros((nS, nA))\n",
    "    games_reward = []\n",
    "    test_rewards = []\n",
    "    \n",
    "    \n",
    "    # Главный цикл для обучения Q-функции\n",
    "    for ep in range(num_episodes):\n",
    "        state = env.reset()\n",
    "        done = False\n",
    "        tot_rew = 0\n",
    "\n",
    "        # Обновление eps до достижения порога в 0.01\n",
    "        if eps > 0.01:\n",
    "            eps -= eps_decay\n",
    "\n",
    "        # Жадный выбор действия, исходя из текущего состояния и и Q-матрицы\n",
    "        action = eps_greedy(Q, state, eps) \n",
    "\n",
    "        # Основной цикл после инициализации первого дейсвтия до завершения эпизода\n",
    "        while not done:\n",
    "            \n",
    "            # Шаг взаимодействия со средой и получение следующего состояния, реварда и прочую инфу\n",
    "            next_state, rew, done, _ = env.step(action)\n",
    "\n",
    "            # Выбор следующего действия для SARSA обновления согласно e-жадной стратегии, опираясь на след. состояние и Q-матрицу\n",
    "            next_action = eps_greedy(Q, next_state, eps) \n",
    "            # SARSA обновление по формуле\n",
    "            Q[state][action] = Q[state][action] + alpha*(rew + gamma*Q[next_state][next_action] - Q[state][action])\n",
    "            \n",
    "            # Установка нового состояния и действия, а также прибавление полученного реварда к суммарному\n",
    "            state = next_state\n",
    "            action = next_action\n",
    "            tot_rew += rew\n",
    "            \n",
    "            # Если состояние финальное, то весь суммарный ревард отправляется в список games_reward\n",
    "            if done:\n",
    "                games_reward.append(tot_rew)\n",
    "        # Через каждые 300 эпох прогон 1000 тестовых игр и информация о них\n",
    "        if (ep % 300) == 0:\n",
    "            test_rew = run_episodes(env, Q, 1000)\n",
    "            print(\"Эпизод:{}  Eps:{}  Вознаграждение:{}\".format(ep, eps, test_rew))          \n",
    "            test_rewards.append(test_rew)\n",
    "            clear_output(True)\n",
    "            plt.plot(test_rewards)\n",
    "            plt.show() \n",
    "\n",
    "    return Q"
   ]
  },
  {
   "cell_type": "code",
   "execution_count": 114,
   "id": "64f39d60",
   "metadata": {},
   "outputs": [],
   "source": [
    "def eps_greedy(Q, s, eps=0.1):\n",
    "    '''\n",
    "    e-жадная стратегия\n",
    "    '''\n",
    "    if np.random.uniform(0,1) < eps:\n",
    "        # Выбираем рандомное действие\n",
    "        return np.random.randint(Q.shape[1])\n",
    "    else:\n",
    "        # Выбор действия согласно жадной стратегии\n",
    "        return greedy(Q, s)"
   ]
  },
  {
   "cell_type": "code",
   "execution_count": 115,
   "id": "ced71616",
   "metadata": {},
   "outputs": [],
   "source": [
    "def greedy(Q, s):\n",
    "    '''\n",
    "    Жадная стратегия. Возвращает индекс для максимального значения Q соотвествующего состояния S\n",
    "    '''\n",
    "    return np.argmax(Q[s])"
   ]
  },
  {
   "cell_type": "code",
   "execution_count": 116,
   "id": "9e16b1d5",
   "metadata": {},
   "outputs": [],
   "source": [
    "def run_episodes(env, Q, num_episodes=100, to_print=True):\n",
    "    '''\n",
    "    Функция, которая прогоняет несколько эпизодов для тестирования стратегии.\n",
    "    В данном случае осуществляется только жадная стратегия, поскольку при тестирование исследование не нужно.\n",
    "    '''\n",
    "    tot_rew = []\n",
    "    state = env.reset()\n",
    "\n",
    "    for _ in range(num_episodes):\n",
    "        done = False\n",
    "        game_rew = 0\n",
    "\n",
    "        while not done:\n",
    "            # Выбор жадного действия\n",
    "            next_state, rew, done, _ = env.step(greedy(Q, state))\n",
    "\n",
    "            state = next_state\n",
    "            game_rew += rew \n",
    "            if done:\n",
    "                state = env.reset()\n",
    "                tot_rew.append(game_rew)\n",
    "\n",
    "    if to_print:\n",
    "        print('Средний счёт: {} из {} игр!'.format(np.mean(tot_rew), num_episodes))       \n",
    "    return np.mean(tot_rew)"
   ]
  },
  {
   "cell_type": "code",
   "execution_count": 117,
   "id": "bfc08eb9",
   "metadata": {
    "scrolled": true
   },
   "outputs": [
    {
     "data": {
      "image/png": "[encoded data removed]",
      "text/plain": [
       "<Figure size 432x288 with 1 Axes>"
      ]
     },
     "metadata": {
      "needs_background": "light"
     },
     "output_type": "display_data"
    }
   ],
   "source": [
    "env = gym.make('Taxi-v3')\n",
    "env.reset()\n",
    "Q= SARSA(env, alpha=0.1, num_episodes=5000, eps=0.4, gamma=0.95, eps_decay=0.001)"
   ]
  },
  {
   "cell_type": "markdown",
   "id": "e51099cd",
   "metadata": {},
   "source": [
    "### Q-Learning"
   ]
  },
  {
   "cell_type": "code",
   "execution_count": 120,
   "id": "70d37708",
   "metadata": {},
   "outputs": [],
   "source": [
    "def Q_learning(env, alpha=0.01, num_episodes=10000, eps=0.3, gamma=0.95, eps_decay=0.00005):\n",
    "    #Инициализация пространства действий и состояний\n",
    "    nA = env.action_space.n\n",
    "    nS = env.observation_space.n\n",
    "\n",
    "    # Q-матрица, содержащая значений Q-функции для каждой пары состояние-дейсвтие (nS*nA) и списки информации о результатах игры\n",
    "    Q = np.zeros((nS, nA))\n",
    "    games_reward = []\n",
    "    test_rewards = []\n",
    "\n",
    "    for ep in range(num_episodes):\n",
    "        state = env.reset()\n",
    "        done = False\n",
    "        tot_rew = 0\n",
    "        \n",
    "        # Обновление eps до достижения порога в 0.01\n",
    "        if eps > 0.01:\n",
    "            eps -= eps_decay\n",
    "\n",
    "        while not done:\n",
    "            action = eps_greedy(Q, state, eps)\n",
    "\n",
    "            next_state, rew, done, _ = env.step(action)\n",
    "\n",
    "            # Вычисление максимального значения Q для следующего состояния\n",
    "            Q[state][action] = Q[state][action] + alpha*(rew + gamma*np.max(Q[next_state]) - Q[state][action])\n",
    "\n",
    "            state = next_state\n",
    "            tot_rew += rew\n",
    "            if done:\n",
    "                games_reward.append(tot_rew)\n",
    "\n",
    "        if (ep % 300) == 0:\n",
    "            test_rew = run_episodes(env, Q, 1000)\n",
    "            print(\"Эпизод:{}  Eps:{}  Вознаграждение:{}\".format(ep, eps, test_rew))  \n",
    "            test_rewards.append(test_rew)\n",
    "            clear_output(True)\n",
    "            plt.plot(test_rewards)\n",
    "            plt.show() \n",
    "           \n",
    "    return Q\n"
   ]
  },
  {
   "cell_type": "code",
   "execution_count": 121,
   "id": "90e2b92a",
   "metadata": {},
   "outputs": [
    {
     "data": {
      "image/png": "[encoded data removed]",
      "text/plain": [
       "<Figure size 432x288 with 1 Axes>"
      ]
     },
     "metadata": {
      "needs_background": "light"
     },
     "output_type": "display_data"
    }
   ],
   "source": [
    "env = gym.make('Taxi-v3')\n",
    "env.reset()\n",
    "Q = Q_learning(env, alpha=.1, num_episodes=5000, eps=0.4, gamma=0.95,\n",
    "eps_decay=0.001)"
   ]
  },
  {
   "cell_type": "code",
   "execution_count": null,
   "id": "842dac3b",
   "metadata": {},
   "outputs": [],
   "source": []
  }
 ],
 "metadata": {
  "kernelspec": {
   "display_name": "Python 3 (ipykernel)",
   "language": "python",
   "name": "python3"
  },
  "language_info": {
   "codemirror_mode": {
    "name": "ipython",
    "version": 3
   },
   "file_extension": ".py",
   "mimetype": "text/x-python",
   "name": "python",
   "nbconvert_exporter": "python",
   "pygments_lexer": "ipython3",
   "version": "3.10.3"
  }
 },
 "nbformat": 4,
 "nbformat_minor": 5
}
