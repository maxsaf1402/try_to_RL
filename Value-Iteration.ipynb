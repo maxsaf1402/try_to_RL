{
 "cells": [
  {
   "cell_type": "code",
   "execution_count": 36,
   "id": "2edd6f1a",
   "metadata": {},
   "outputs": [],
   "source": [
    "import numpy as np\n",
    "import pygame\n",
    "import gym"
   ]
  },
  {
   "cell_type": "markdown",
   "id": "3f5e1fa8",
   "metadata": {},
   "source": [
    "### Метод итераций по стратегиям"
   ]
  },
  {
   "cell_type": "code",
   "execution_count": 37,
   "id": "24cc15b4",
   "metadata": {},
   "outputs": [],
   "source": [
    "def policy_improvement(V, policy):\n",
    "    '''\n",
    "    Принимает функцию ценности, стратегию и перебирает все состояния,\n",
    "    обновляя стратегию на основе новой функции ценности.\n",
    "    Если стратегия изменилась - False, т.е. ещё не стабилизировалась.\n",
    "    '''\n",
    "    policy_stable = True\n",
    "    for s in range(nS):\n",
    "        old_a = policy[s]\n",
    "        # Обновление политики с действием, которое приводит к максимальной ценности состояния\n",
    "        policy[s] = np.argmax([eval_state_action(V, s, a) for a in range(nA)])\n",
    "        if old_a != policy[s]: \n",
    "            policy_stable = False\n",
    "\n",
    "    return policy_stable"
   ]
  },
  {
   "cell_type": "code",
   "execution_count": 38,
   "id": "0594e3a4",
   "metadata": {},
   "outputs": [],
   "source": [
    "def eval_state_action(V, s, a, gamma=0.99):\n",
    "    '''\n",
    "    Функция для вычисления ожидаемой ценности действия (используется в функции 'policy_improvement').\n",
    "    \n",
    "    env.P – словарь, содержащий всю информацию о динамике окружающей среды;\n",
    "    gamma – дисконтирующий множитель.\n",
    "    '''\n",
    "    return np.sum([p * (rew + gamma*V[next_s]) for p, next_s, rew, _ in env.P[s][a]])"
   ]
  },
  {
   "cell_type": "code",
   "execution_count": 39,
   "id": "6908265c",
   "metadata": {},
   "outputs": [],
   "source": [
    "def policy_evaluation(V, policy, eps=0.0001):\n",
    "    '''\n",
    "    Функция для уравнения Беллмана, которая производит вычисления для каждого состояния,\n",
    "    следуя текущей стратегии, до стабилизации результатов (delta становиться меньше eps).\n",
    "    '''\n",
    "    while True:\n",
    "        delta = 0\n",
    "        # Цикл для всех состояний\n",
    "        for s in range(nS):\n",
    "            old_v = V[s]\n",
    "            # Обновление функции ценности с помощью уравнения Беллмана\n",
    "            V[s] = eval_state_action(V, s, policy[s])\n",
    "            delta = max(delta, np.abs(old_v - V[s]))\n",
    "\n",
    "        if delta < eps:\n",
    "            break"
   ]
  },
  {
   "cell_type": "code",
   "execution_count": 40,
   "id": "1914f551",
   "metadata": {},
   "outputs": [],
   "source": [
    "def run_episodes(env, policy, num_games=100):\n",
    "    '''\n",
    "    Функция запуска несольких эпох\n",
    "    '''\n",
    "    tot_rew = 0\n",
    "    state = env.reset()\n",
    "    for _ in range(num_games):\n",
    "        done = False\n",
    "        while not done:\n",
    "            # Выбор действия в соотвествии с полититкой\n",
    "            next_state, reward, done, _ = env.step(policy[state])\n",
    "            state = next_state\n",
    "            tot_rew += reward\n",
    "            if done:\n",
    "                state = env.reset()\n",
    "    print('Победа в {} из {} игр!'.format(tot_rew, num_games))"
   ]
  },
  {
   "cell_type": "code",
   "execution_count": 52,
   "id": "a7b4c712",
   "metadata": {
    "scrolled": true
   },
   "outputs": [
    {
     "name": "stdout",
     "output_type": "stream",
     "text": [
      "Сошёлся после 7 итераций\n",
      "Победа в 78.0 из 100 игр!\n",
      "[[0.54 0.5  0.47 0.45]\n",
      " [0.56 0.   0.36 0.  ]\n",
      " [0.59 0.64 0.61 0.  ]\n",
      " [0.   0.74 0.86 0.  ]]\n",
      "[[0. 3. 3. 3.]\n",
      " [0. 0. 0. 0.]\n",
      " [3. 1. 0. 0.]\n",
      " [0. 2. 1. 0.]]\n"
     ]
    }
   ],
   "source": [
    "# Создаем окружение\n",
    "# FrozenLake-v1 - дискретный конечный МПР\n",
    "env = gym.make('FrozenLake-v1')\n",
    "env = env.unwrapped\n",
    "\n",
    "# Получаем пространства действий и состояний\n",
    "nA = env.action_space.n\n",
    "nS = env.observation_space.n\n",
    "\n",
    "# Инициализируем функцию ценности и стратегии\n",
    "V = np.zeros(nS)\n",
    "policy = np.zeros(nS)\n",
    "\n",
    "# Основной цикл, в котором на каждой итерации выполняется один шаг оценивания стратегии и шаг улучшения стратегии. \n",
    "# Выход из цикла после стабилизации стратегии\n",
    "policy_stable = False\n",
    "iteration = 0\n",
    "\n",
    "while not policy_stable:\n",
    "    policy_evaluation(V, policy)\n",
    "    policy_stable = policy_improvement(V, policy)\n",
    "    iteration += 1\n",
    "\n",
    "print('Сошёлся после {} итераций'.format(iteration))\n",
    "run_episodes(env, policy)\n",
    "\n",
    "#Функция ценности, стратегия\n",
    "print(V.reshape((4,4)).round(2))\n",
    "print(policy.reshape((4,4)))"
   ]
  },
  {
   "cell_type": "markdown",
   "id": "08786102",
   "metadata": {},
   "source": [
    "### Метод итераций по ценности"
   ]
  },
  {
   "cell_type": "code",
   "execution_count": 53,
   "id": "208fbb59",
   "metadata": {},
   "outputs": [],
   "source": [
    "def eval_state_action(V, s, a, gamma=0.99):\n",
    "    '''\n",
    "    Функция для оценивания пары состояние-действие\n",
    "    '''\n",
    "    return np.sum([p * (rew + gamma*V[next_s]) for p, next_s, rew, _ in env.P[s][a]])"
   ]
  },
  {
   "cell_type": "code",
   "execution_count": 71,
   "id": "00f79b01",
   "metadata": {},
   "outputs": [],
   "source": [
    "def value_iteration(eps=0.0001):\n",
    "    '''\n",
    "    Алгоритм итераций по ценности\n",
    "    '''\n",
    "    V = np.zeros(nS)\n",
    "    it = 0\n",
    "    global iteration\n",
    "    while True:\n",
    "        delta = 0\n",
    "        # Обнолвение ценности каждого состояния\n",
    "        for s in range(nS):\n",
    "            old_v = V[s]\n",
    "            V[s] = np.max([eval_state_action(V, s, a) for a in range(nA)])\n",
    "            delta = max(delta, np.abs(old_v - V[s]))\n",
    "        # Выход из цикла при стабилизации\n",
    "        if delta < eps:\n",
    "            break\n",
    "        it += 1\n",
    "        iteration = it\n",
    "\n",
    "    return V"
   ]
  },
  {
   "cell_type": "code",
   "execution_count": 72,
   "id": "87595892",
   "metadata": {},
   "outputs": [],
   "source": [
    "def run_episodes(env, V, num_games=100):\n",
    "    '''\n",
    "    Функция запуска несольких эпох\n",
    "    '''\n",
    "    tot_rew = 0\n",
    "    state = env.reset()\n",
    "\n",
    "    for _ in range(num_games):\n",
    "        done = False\n",
    "        while not done:\n",
    "            #Выбор наилучшего действия по функции ценности\n",
    "            action = np.argmax([eval_state_action(V, state, a) for a in range(nA)])\n",
    "            next_state, reward, done, _ = env.step(action)\n",
    "\n",
    "            state = next_state\n",
    "            tot_rew += reward \n",
    "            if done:\n",
    "                state = env.reset()\n",
    "    print('Победа в {} из {} игр!'.format(tot_rew, num_games))"
   ]
  },
  {
   "cell_type": "code",
   "execution_count": 74,
   "id": "1296a569",
   "metadata": {},
   "outputs": [
    {
     "name": "stdout",
     "output_type": "stream",
     "text": [
      "Победа в 79.0 из 100 игр!\n",
      "Сошёлся после 131 итераций\n",
      "[[0.54 0.5  0.47 0.45]\n",
      " [0.56 0.   0.36 0.  ]\n",
      " [0.59 0.64 0.61 0.  ]\n",
      " [0.   0.74 0.86 0.  ]]\n"
     ]
    }
   ],
   "source": [
    "# create the environment\n",
    "env = gym.make('FrozenLake-v1')\n",
    "env = env.unwrapped\n",
    "\n",
    "# Получаем пространства действий и состояний\n",
    "nA = env.action_space.n\n",
    "nS = env.observation_space.n\n",
    "\n",
    "# Value iteration\n",
    "iteration = 0\n",
    "V = value_iteration(eps=0.0001)\n",
    "\n",
    "run_episodes(env, V, 100)\n",
    "\n",
    "print('Сошёлся после {} итераций'.format(iteration))\n",
    "print(V.reshape((4,4)).round(2))"
   ]
  },
  {
   "cell_type": "code",
   "execution_count": null,
   "id": "befda74e",
   "metadata": {},
   "outputs": [],
   "source": []
  }
 ],
 "metadata": {
  "kernelspec": {
   "display_name": "Python 3 (ipykernel)",
   "language": "python",
   "name": "python3"
  },
  "language_info": {
   "codemirror_mode": {
    "name": "ipython",
    "version": 3
   },
   "file_extension": ".py",
   "mimetype": "text/x-python",
   "name": "python",
   "nbconvert_exporter": "python",
   "pygments_lexer": "ipython3",
   "version": "3.10.3"
  }
 },
 "nbformat": 4,
 "nbformat_minor": 5
}
